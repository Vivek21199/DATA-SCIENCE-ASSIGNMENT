{
 "cells": [
  {
   "cell_type": "code",
   "execution_count": null,
   "id": "7d47432e-d4e6-45f2-b6aa-2d8435b29166",
   "metadata": {},
   "outputs": [],
   "source": [
    "Q1. Create one variable containing following type of data:\n",
    "\n",
    "(i)\tstring\n",
    "\n",
    "(ii)\tlist\n",
    "\n",
    "(iii)\tfloat\n",
    "\n",
    "(iv)\ttuple"
   ]
  },
  {
   "cell_type": "raw",
   "id": "d13437df-18cc-40f3-a01d-8420c363a99a",
   "metadata": {},
   "source": [
    "#answar:\n",
    "\n",
    "(i) \"vivek\"\n",
    "(ii) [1,2,3,4, 'vivek' , 45.4545, true, false]\n",
    "(iii) 45.6546\n",
    "(iv)  (10,20,30)"
   ]
  },
  {
   "cell_type": "code",
   "execution_count": null,
   "id": "feda500e-deb7-48ac-9a1e-8a8954824976",
   "metadata": {},
   "outputs": [],
   "source": [
    "Q2. Given are some following variables containing data:\n",
    "\n",
    "(i)\tvar1 = ‘ ‘\n",
    "\n",
    "(ii)\tvar2 = ‘[ DS , ML , Python]’\n",
    "\n",
    "(iii)\tvar3 = [ ‘DS’ , ’ML’ , ‘Python’ ]\n",
    "\n",
    "(iv)\tvar4 = 1.\n",
    "\n",
    "\n",
    "What will be the data type of the above given variable."
   ]
  },
  {
   "cell_type": "code",
   "execution_count": null,
   "id": "0eccb53e-0264-4d98-a843-62efec920580",
   "metadata": {},
   "outputs": [],
   "source": [
    "#answar:\n",
    "\n",
    "(i)   var1 = String\n",
    "(ii)  var2 = String\n",
    "(iii) var3 = List\n",
    "(iv)  var4 = Float\n"
   ]
  },
  {
   "cell_type": "code",
   "execution_count": null,
   "id": "f7230004-e2a2-48cd-807e-a814d80b8331",
   "metadata": {},
   "outputs": [],
   "source": [
    "Q3. Explain the use of the following operators using an example:\n",
    "\n",
    "(i)\t/\n",
    "\n",
    "(ii)\t% \n",
    "\n",
    "(iii)\t//\n",
    "\n",
    "(iv)\t**"
   ]
  },
  {
   "cell_type": "code",
   "execution_count": null,
   "id": "6d01a649-64c4-4125-b51f-dbb0f8b28ebe",
   "metadata": {},
   "outputs": [],
   "source": [
    "#answar:\n",
    "(i)\t/ = Division operator\n",
    "\n",
    "(ii)\t%  = Modulus operator\n",
    "\n",
    "(iii)\t// = Floor division operator\n",
    "\n",
    "(iv)\t* = Miltiplication operator\n"
   ]
  },
  {
   "cell_type": "code",
   "execution_count": null,
   "id": "5b2c6700-1591-4663-bca7-fd7367f82e0f",
   "metadata": {},
   "outputs": [],
   "source": [
    "Q4. Create a list of length 10 of your choice containing multiple types of data. Using for loop print the \n",
    "element and its data type."
   ]
  },
  {
   "cell_type": "code",
   "execution_count": 7,
   "id": "2e57b2e4-9262-4875-a44c-07c73f89d051",
   "metadata": {},
   "outputs": [
    {
     "name": "stdout",
     "output_type": "stream",
     "text": [
      "Element: 40, Data Type: <class 'int'>\n",
      "Element: 50, Data Type: <class 'int'>\n",
      "Element: 60, Data Type: <class 'int'>\n",
      "Element: 70, Data Type: <class 'int'>\n",
      "Element: vivek, Data Type: <class 'str'>\n",
      "Element: subh, Data Type: <class 'str'>\n",
      "Element: 45.45, Data Type: <class 'float'>\n",
      "Element: 55.45, Data Type: <class 'float'>\n",
      "Element: (30, 40, 50), Data Type: <class 'tuple'>\n",
      "Element: (5+4j), Data Type: <class 'complex'>\n"
     ]
    }
   ],
   "source": [
    "#answar:\n",
    "\n",
    "a= 40,50,60,70, 'vivek' , 'subh' , 45.45, 55.45, (30,40,50) , 5+4j, \n",
    "for i in a:\n",
    "     print(f\"Element: {i}, Data Type: {type(i)}\")\n"
   ]
  },
  {
   "cell_type": "raw",
   "id": "f1de1bc8-2ff2-417f-8179-29489bd6688b",
   "metadata": {},
   "source": [
    "Q5. Using a while loop, verify if the number A is purely divisible by number B and if so then how many \n",
    "times it can be divisible."
   ]
  },
  {
   "cell_type": "code",
   "execution_count": 3,
   "id": "bb0c4ddf-5707-4a6d-9958-053f7ef15eda",
   "metadata": {},
   "outputs": [
    {
     "name": "stdout",
     "output_type": "stream",
     "text": [
      " 'a' is purely divisible by 'b' \n",
      " it can be divided 3  times by 'b' \n"
     ]
    }
   ],
   "source": [
    "#answar:\n",
    "\n",
    "a = 216 \n",
    "b = 6\n",
    "count= 0\n",
    "\n",
    "while a%b == 0:\n",
    "    a = a // b\n",
    "    count += 1\n",
    "\n",
    "if a == 1:\n",
    "    print( \" 'a' is purely divisible by 'b' \")\n",
    "    print(\" it can be divided\" , count , \" times by 'b' \")\n",
    "    \n",
    "else:\n",
    "       print(\" 'a' is not purely divisible by 'b'\")"
   ]
  },
  {
   "cell_type": "raw",
   "id": "18387e24-52d0-4de3-aefb-a0df679c3e38",
   "metadata": {},
   "source": [
    "Q6. Create a list containing 25 int type data. Using for loop and if-else condition print if the element is \n",
    "divisible by 3 or not."
   ]
  },
  {
   "cell_type": "code",
   "execution_count": 5,
   "id": "521fd195-6d80-4e77-afb8-65479103dbd7",
   "metadata": {},
   "outputs": [
    {
     "name": "stdout",
     "output_type": "stream",
     "text": [
      "15 is divisible by 3\n",
      "7 is not divisible by 3\n",
      "9 is divisible by 3\n",
      "4 is not divisible by 3\n",
      "18 is divisible by 3\n",
      "27 is divisible by 3\n",
      "36 is divisible by 3\n",
      "42 is divisible by 3\n",
      "5 is not divisible by 3\n",
      "10 is not divisible by 3\n",
      "21 is divisible by 3\n",
      "30 is divisible by 3\n",
      "14 is not divisible by 3\n",
      "8 is not divisible by 3\n",
      "11 is not divisible by 3\n",
      "25 is not divisible by 3\n",
      "33 is divisible by 3\n",
      "22 is not divisible by 3\n",
      "6 is divisible by 3\n",
      "12 is divisible by 3\n",
      "17 is not divisible by 3\n",
      "20 is not divisible by 3\n",
      "24 is divisible by 3\n",
      "39 is divisible by 3\n",
      "45 is divisible by 3\n"
     ]
    }
   ],
   "source": [
    "# answar:\n",
    "\n",
    "my_list = [15, 7, 9, 4, 18, 27, 36, 42, 5, 10, 21, 30, 14, 8, 11, 25, 33, 22, 6, 12, 17, 20, 24, 39, 45]\n",
    "\n",
    "\n",
    "for num in my_list:\n",
    "    if num % 3 == 0:\n",
    "        print(f\"{num} is divisible by 3\")\n",
    "    else:\n",
    "        print(f\"{num} is not divisible by 3\")"
   ]
  },
  {
   "cell_type": "raw",
   "id": "9b6e5e85-9319-4796-aa24-c54e29f6aa85",
   "metadata": {},
   "source": [
    "Q7. What do you understand about mutable and immutable data types? Give examples for both showing \n",
    "this property."
   ]
  },
  {
   "cell_type": "raw",
   "id": "3cd40c2e-9273-4152-9403-0bcf0b1995a2",
   "metadata": {},
   "source": [
    "#answar:\n",
    "\n",
    "Mutable Data Types:\n",
    "\n",
    "1.Mutable data types are those whose values can be changed after they are created.\n",
    "2.When you modify a mutable object, you are actually modifying the same object in memory.\n",
    "\n",
    "Examples of mutable data types : ( lists, dictionaries, and sets )\n",
    "\n",
    "\n",
    "\n",
    "Immutable Data Types:\n",
    "\n",
    "1.Immutable data types are those whose values cannot be changed after they are created.\n",
    "2.When you perform operations that seem to modify an immutable object, you are actually creating a new object in memory.\n",
    "\n",
    "Examples of immutable data types : ( floats, strings, tuples )"
   ]
  },
  {
   "cell_type": "code",
   "execution_count": null,
   "id": "8c9a6b7a-177c-4e13-bcb0-c380fc882814",
   "metadata": {},
   "outputs": [],
   "source": []
  }
 ],
 "metadata": {
  "kernelspec": {
   "display_name": "Python 3 (ipykernel)",
   "language": "python",
   "name": "python3"
  },
  "language_info": {
   "codemirror_mode": {
    "name": "ipython",
    "version": 3
   },
   "file_extension": ".py",
   "mimetype": "text/x-python",
   "name": "python",
   "nbconvert_exporter": "python",
   "pygments_lexer": "ipython3",
   "version": "3.10.8"
  }
 },
 "nbformat": 4,
 "nbformat_minor": 5
}
